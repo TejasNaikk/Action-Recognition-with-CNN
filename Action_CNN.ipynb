{
  "nbformat": 4,
  "nbformat_minor": 0,
  "metadata": {
    "colab": {
      "name": "Action_CNN.ipynb",
      "version": "0.3.2",
      "views": {},
      "default_view": {},
      "provenance": [],
      "collapsed_sections": [
        "S0JYq2aUMB8u"
      ]
    },
    "kernelspec": {
      "display_name": "Python 2",
      "language": "python",
      "name": "python2"
    },
    "accelerator": "GPU"
  },
  "cells": [
    {
      "metadata": {
        "id": "2j24ZiaXMB3i",
        "colab_type": "text"
      },
      "cell_type": "markdown",
      "source": [
        "# Training a ConvNet PyTorch\n",
        "\n",
        "In this notebook, you'll learn how to use the powerful PyTorch framework to specify a conv net architecture and train it on the human action recognition dataset. \n"
      ]
    },
    {
      "metadata": {
        "id": "H4i07ShKMB3o",
        "colab_type": "code",
        "colab": {
          "autoexec": {
            "startup": false,
            "wait_interval": 0
          }
        }
      },
      "cell_type": "code",
      "source": [
        "import torch\n",
        "import torch.nn as nn\n",
        "import torch.optim as optim\n",
        "from torch.autograd import Variable\n",
        "from torch.utils.data import DataLoader,sampler,Dataset\n",
        "import torchvision.datasets as dset\n",
        "import torchvision.transforms as T\n",
        "import timeit\n",
        "from PIL import Image\n",
        "import os\n",
        "import numpy as np\n",
        "import scipy.io\n"
      ],
      "execution_count": 0,
      "outputs": []
    },
    {
      "metadata": {
        "id": "0vB1TvAVQzPK",
        "colab_type": "text"
      },
      "cell_type": "markdown",
      "source": [
        ""
      ]
    },
    {
      "metadata": {
        "id": "kYAKoMNQMKWS",
        "colab_type": "code",
        "colab": {
          "autoexec": {
            "startup": false,
            "wait_interval": 0
          }
        }
      },
      "cell_type": "code",
      "source": [
        "#!pip install torch torchvision"
      ],
      "execution_count": 0,
      "outputs": []
    },
    {
      "metadata": {
        "id": "O5ujzlmtMB3-",
        "colab_type": "text"
      },
      "cell_type": "markdown",
      "source": [
        "## What's this PyTorch business?\n",
        "\n",
        "* When using a framework like PyTorch or TensorFlow you can harness the power of the GPU for your own custom neural network architectures without having to write CUDA code directly.\n",
        "* this notebook will walk you through much of what you need to do to train models using pytorch. if you want to learn more or need further clarification on topics that aren't fully explained here, here are 2 good Pytorch tutorials. 1): http://pytorch.org/tutorials/beginner/deep_learning_60min_blitz.html 2)http://pytorch.org/tutorials/beginner/pytorch_with_examples.html\n",
        "* It's not necessary to have a GPU for this homework, using a GPU can make your code run faster.\n"
      ]
    },
    {
      "metadata": {
        "id": "MkRpV0RLMB4E",
        "colab_type": "text"
      },
      "cell_type": "markdown",
      "source": [
        "## Load Datasets\n",
        "\n",
        "In this part, we will load the action recognition dataset for the neural network. In order to load data from our custom dataset, we need to write a custom Dataloader. If you put q3_2_data.mat, /valClips,/trainClips,/testClips under the folder of ./data/ , you do not need to change anything in this part."
      ]
    },
    {
      "metadata": {
        "id": "WEUcKSChMB4I",
        "colab_type": "text"
      },
      "cell_type": "markdown",
      "source": [
        "First, load the labels of the dataset, you should write your path of the q3_2_data.mat file."
      ]
    },
    {
      "metadata": {
        "id": "dH9WW0HrMB4M",
        "colab_type": "code",
        "colab": {
          "autoexec": {
            "startup": false,
            "wait_interval": 0
          }
        }
      },
      "cell_type": "code",
      "source": [
        "label_mat=scipy.io.loadmat('./data/q3_2_data.mat')\n",
        "label_train=label_mat['trLb']\n",
        "print(len(label_train))\n",
        "label_val=label_mat['valLb']\n",
        "print(len(label_val))\n",
        "\n",
        "print label_train\n",
        "\n"
      ],
      "execution_count": 0,
      "outputs": []
    },
    {
      "metadata": {
        "id": "yv-ONPlSM7va",
        "colab_type": "code",
        "colab": {
          "autoexec": {
            "startup": false,
            "wait_interval": 0
          }
        }
      },
      "cell_type": "code",
      "source": [
        "#!pip install -U -q PyDrive"
      ],
      "execution_count": 0,
      "outputs": []
    },
    {
      "metadata": {
        "id": "g5G_Qc45Nf0Y",
        "colab_type": "code",
        "colab": {
          "autoexec": {
            "startup": false,
            "wait_interval": 0
          }
        }
      },
      "cell_type": "code",
      "source": [
        "\"\"\"\n",
        "from pydrive.auth import GoogleAuth\n",
        "from pydrive.drive import GoogleDrive\n",
        "from google.colab import auth\n",
        "from oauth2client.client import GoogleCredentials\n",
        "\n",
        "# 1. Authenticate and create the PyDrive client.\n",
        "auth.authenticate_user()\n",
        "gauth = GoogleAuth()\n",
        "gauth.credentials = GoogleCredentials.get_application_default()\n",
        "drive = GoogleDrive(gauth)\n",
        "\"\"\"\n"
      ],
      "execution_count": 0,
      "outputs": []
    },
    {
      "metadata": {
        "id": "F9IfS7OoNze4",
        "colab_type": "code",
        "colab": {
          "autoexec": {
            "startup": false,
            "wait_interval": 0
          },
          "base_uri": "https://localhost:8080/",
          "height": 34
        },
        "outputId": "b64048a5-0631-404d-e416-40b313d0e641",
        "executionInfo": {
          "status": "ok",
          "timestamp": 1523495461088,
          "user_tz": 240,
          "elapsed": 1500,
          "user": {
            "displayName": "Tejas Naik",
            "photoUrl": "https://lh3.googleusercontent.com/a/default-user=s128",
            "userId": "109987961230950503945"
          }
        }
      },
      "cell_type": "code",
      "source": [
        "\"\"\"\n",
        "fileId = drive.CreateFile({'id': '1Ec3mn1JoVx-AgJWtHn0IAf62eLszV7eP'}) #DRIVE_FILE_ID is file id example: 1iytA1n2z4go3uVCwE_vIKouTKyIDjEq\n",
        "print fileId['title']  # folder_data.zip\n",
        "fileId.GetContentFile('data.zip')\n",
        "\"\"\"\n"
      ],
      "execution_count": 9,
      "outputs": [
        {
          "output_type": "stream",
          "text": [
            "data.zip\n"
          ],
          "name": "stdout"
        }
      ]
    },
    {
      "metadata": {
        "id": "AqkA8CeJOksI",
        "colab_type": "code",
        "colab": {
          "autoexec": {
            "startup": false,
            "wait_interval": 0
          }
        }
      },
      "cell_type": "code",
      "source": [
        "#!unzip data.zip -d ./"
      ],
      "execution_count": 0,
      "outputs": []
    },
    {
      "metadata": {
        "id": "m8L9NSt9Ou68",
        "colab_type": "code",
        "colab": {
          "autoexec": {
            "startup": false,
            "wait_interval": 0
          }
        }
      },
      "cell_type": "code",
      "source": [
        "#from google.colab import files\n",
        "\n",
        "#uploaded = files.upload() \n"
      ],
      "execution_count": 0,
      "outputs": []
    },
    {
      "metadata": {
        "id": "DbagbIi6O_pa",
        "colab_type": "code",
        "colab": {
          "autoexec": {
            "startup": false,
            "wait_interval": 0
          }
        }
      },
      "cell_type": "code",
      "source": [
        "#!pip install -r requirements.txt"
      ],
      "execution_count": 0,
      "outputs": []
    },
    {
      "metadata": {
        "id": "a92QAZ__MB4g",
        "colab_type": "text"
      },
      "cell_type": "markdown",
      "source": [
        "### Dataset class\n",
        "\n",
        "torch.utils.data.Dataset is an abstract class representing a dataset. The custom dataset should inherit Dataset and override the following methods:\n",
        "\n",
        "    __len__ so that len(dataset) returns the size of the dataset.\n",
        "    __getitem__ to support the indexing such that dataset[i] can be used to get ith sample\n",
        "\n",
        "Let’s create a dataset class for our action recognition dataset. We will read images in __getitem__. This is memory efficient because all the images are not stored in the memory at once but read as required.\n",
        "\n",
        "Sample of our dataset will be a dict {'image':image,'img_path':img_path,'Label':Label}. Our datset will take an optional argument transform so that any required processing can be applied on the sample. "
      ]
    },
    {
      "metadata": {
        "id": "K00WD4HhMB4k",
        "colab_type": "code",
        "colab": {
          "autoexec": {
            "startup": false,
            "wait_interval": 0
          }
        }
      },
      "cell_type": "code",
      "source": [
        "\n",
        "class ActionDataset(Dataset):\n",
        "    \"\"\"Action dataset.\"\"\"\n",
        "\n",
        "    def __init__(self,  root_dir,labels=[], transform=None):\n",
        "        \"\"\"\n",
        "        Args:\n",
        "            root_dir (string): Directory with all the images.\n",
        "            labels(list): labels if images.\n",
        "            transform (callable, optional): Optional transform to be applied on a sample.\n",
        "        \"\"\"\n",
        "        self.root_dir = root_dir\n",
        "        self.transform = transform\n",
        "        self.length=len(os.listdir(self.root_dir))\n",
        "        self.labels=labels\n",
        "    def __len__(self):\n",
        "        return self.length*3\n",
        "\n",
        "    def __getitem__(self, idx):\n",
        "        \n",
        "        folder=idx/3+1\n",
        "        imidx=idx%3+1\n",
        "        folder=format(folder,'05d')\n",
        "        imgname=str(imidx)+'.jpg'\n",
        "        img_path = os.path.join(self.root_dir,\n",
        "                                folder,imgname)\n",
        "        image = Image.open(img_path)\n",
        "        if len(self.labels)!=0:\n",
        "            Label=self.labels[idx/3][0]-1\n",
        "        if self.transform:\n",
        "            image = self.transform(image)\n",
        "        if len(self.labels)!=0:\n",
        "            sample={'image':image,'img_path':img_path,'Label':Label}\n",
        "        else:\n",
        "            sample={'image':image,'img_path':img_path}\n",
        "        return sample\n",
        "  "
      ],
      "execution_count": 0,
      "outputs": []
    },
    {
      "metadata": {
        "id": "AAC5l3nFMB4u",
        "colab_type": "text"
      },
      "cell_type": "markdown",
      "source": [
        "Iterating over the dataset by a for loop."
      ]
    },
    {
      "metadata": {
        "id": "YB6Pu5NVMB4w",
        "colab_type": "code",
        "colab": {
          "autoexec": {
            "startup": false,
            "wait_interval": 0
          }
        }
      },
      "cell_type": "code",
      "source": [
        "image_dataset=ActionDataset(root_dir='./data/trainClips/',\\\n",
        "                            labels=label_train,transform=T.ToTensor())\n",
        "\n",
        "#iterating though the dataset\n",
        "for i in range(10):\n",
        "    sample=image_dataset[i]\n",
        "    print(sample['image'].shape)\n",
        "    print(sample['Label'])\n",
        "    print(sample['img_path'])\n",
        "     "
      ],
      "execution_count": 0,
      "outputs": []
    },
    {
      "metadata": {
        "id": "kvZi_Ha4MB5G",
        "colab_type": "text"
      },
      "cell_type": "markdown",
      "source": [
        "We can iterate over the created dataset with a 'for' loop as before. However, we are losing a lot of features by using a simple for loop to iterate over the data. In particular, we are missing out on:\n",
        "\n",
        "* Batching the data\n",
        "* Shuffling the data\n",
        "* Load the data in parallel using multiprocessing workers.\n",
        "\n",
        "torch.utils.data.DataLoader is an iterator which provides all these features. "
      ]
    },
    {
      "metadata": {
        "id": "weA7q7FFMB5M",
        "colab_type": "code",
        "colab": {
          "autoexec": {
            "startup": false,
            "wait_interval": 0
          }
        }
      },
      "cell_type": "code",
      "source": [
        "image_dataloader = DataLoader(image_dataset, batch_size=4,\n",
        "                        shuffle=True, num_workers=4)\n",
        "\n",
        "\n",
        "for i,sample in enumerate(image_dataloader):\n",
        "    sample['image']=sample['image']\n",
        "    print(i,sample['image'].shape,sample['img_path'],sample['Label'])\n",
        "    if i>20: \n",
        "        break"
      ],
      "execution_count": 0,
      "outputs": []
    },
    {
      "metadata": {
        "id": "hBqe08m8MB5i",
        "colab_type": "text"
      },
      "cell_type": "markdown",
      "source": [
        "Dataloaders for the training, validationg and testing set. "
      ]
    },
    {
      "metadata": {
        "id": "0WgzaFUeMB5k",
        "colab_type": "code",
        "colab": {
          "autoexec": {
            "startup": false,
            "wait_interval": 0
          }
        }
      },
      "cell_type": "code",
      "source": [
        "image_dataset_train=ActionDataset(root_dir='./data/trainClips/',labels=label_train,transform=T.ToTensor())\n",
        "\n",
        "image_dataloader_train = DataLoader(image_dataset_train, batch_size=32,\n",
        "                        shuffle=True, num_workers=4)\n",
        "image_dataset_val=ActionDataset(root_dir='./data/valClips/',labels=label_val,transform=T.ToTensor())\n",
        "\n",
        "image_dataloader_val = DataLoader(image_dataset_val, batch_size=32,\n",
        "                        shuffle=False, num_workers=4)\n",
        "image_dataset_test=ActionDataset(root_dir='./data/testClips/',labels=[],transform=T.ToTensor())\n",
        "\n",
        "image_dataloader_test = DataLoader(image_dataset_test, batch_size=32,\n",
        "                        shuffle=False, num_workers=4)"
      ],
      "execution_count": 0,
      "outputs": []
    },
    {
      "metadata": {
        "id": "YCNGpMa3MB5y",
        "colab_type": "code",
        "colab": {
          "autoexec": {
            "startup": false,
            "wait_interval": 0
          }
        }
      },
      "cell_type": "code",
      "source": [
        "dtype = torch.FloatTensor # the CPU datatype\n",
        "# Constant to control how frequently we print train loss\n",
        "print_every = 100\n",
        "# This is a little utility that we'll use to reset the model\n",
        "# if we want to re-initialize all our parameters\n",
        "def reset(m):\n",
        "    if hasattr(m, 'reset_parameters'):\n",
        "        m.reset_parameters()"
      ],
      "execution_count": 0,
      "outputs": []
    },
    {
      "metadata": {
        "id": "QzLwPBmIMB56",
        "colab_type": "text"
      },
      "cell_type": "markdown",
      "source": [
        "## Example Model\n",
        "\n",
        "### Some assorted tidbits\n",
        "\n",
        "Let's start by looking at a simple model. First, note that PyTorch operates on Tensors, which are n-dimensional arrays functionally analogous to numpy's ndarrays, with the additional feature that they can be used for computations on GPUs.\n",
        "\n",
        "We'll provide you with a Flatten function, which we explain here. Remember that our image data (and more relevantly, our intermediate feature maps) are initially N x C x H x W, where:\n",
        "* N is the number of datapoints\n",
        "* C is the number of image channels. \n",
        "* H is the height of the intermediate feature map in pixels\n",
        "* W is the height of the intermediate feature map in pixels\n",
        "\n",
        "This is the right way to represent the data when we are doing something like a 2D convolution, that needs spatial understanding of where the intermediate features are relative to each other. When we input  data into fully connected affine layers, however, we want each datapoint to be represented by a single vector -- it's no longer useful to segregate the different channels, rows, and columns of the data. So, we use a \"Flatten\" operation to collapse the C x H x W values per representation into a single long vector. The Flatten function below first reads in the N, C, H, and W values from a given batch of data, and then returns a \"view\" of that data. \"View\" is analogous to numpy's \"reshape\" method: it reshapes x's dimensions to be N x ??, where ?? is allowed to be anything (in this case, it will be C x H x W, but we don't need to specify that explicitly). "
      ]
    },
    {
      "metadata": {
        "id": "QeCSIT4dMB58",
        "colab_type": "code",
        "colab": {
          "autoexec": {
            "startup": false,
            "wait_interval": 0
          }
        }
      },
      "cell_type": "code",
      "source": [
        "class Flatten(nn.Module):\n",
        "    def forward(self, x):\n",
        "        N, C, H, W = x.size() # read in N, C, H, W\n",
        "        return x.view(N, -1)  # \"flatten\" the C * H * W values into a single vector per image"
      ],
      "execution_count": 0,
      "outputs": []
    },
    {
      "metadata": {
        "id": "xqXyJULxMB6G",
        "colab_type": "text"
      },
      "cell_type": "markdown",
      "source": [
        "### The example model itself\n",
        "\n",
        "The first step to training your own model is defining its architecture.\n",
        "\n",
        "Here's an example of a convolutional neural network defined in PyTorch -- try to understand what each line is doing, remembering that each layer is composed upon the previous layer. We haven't trained anything yet - that'll come next - for now, we want you to understand how everything gets set up.  nn.Sequential is a container which applies each layer\n",
        "one after the other.\n",
        "\n",
        "In this example, you see 2D convolutional layers (Conv2d), ReLU activations, and fully-connected layers (Linear). You also see the Cross-Entropy loss function, and the Adam optimizer being used. \n",
        "\n",
        "Make sure you understand why the parameters of the Linear layer are 10092 and 10.\n"
      ]
    },
    {
      "metadata": {
        "id": "uZcc1aXJMB6I",
        "colab_type": "code",
        "colab": {
          "autoexec": {
            "startup": false,
            "wait_interval": 0
          }
        }
      },
      "cell_type": "code",
      "source": [
        "# Here's where we define the architecture of the model... \n",
        "simple_model = nn.Sequential(\n",
        "                nn.Conv2d(3, 32, kernel_size=7, stride=2),\n",
        "                nn.ReLU(inplace=True),\n",
        "                Flatten(), # see above for explanation\n",
        "                nn.Linear(10092, 10), # affine layer\n",
        "              )\n",
        "\n",
        "# Set the type of all data in this model to be FloatTensor \n",
        "simple_model.type(dtype)\n",
        "\n",
        "loss_fn = nn.CrossEntropyLoss().type(dtype)\n",
        "optimizer = optim.Adam(simple_model.parameters(), lr=1e-2) # lr sets the learning rate of the optimizer"
      ],
      "execution_count": 0,
      "outputs": []
    },
    {
      "metadata": {
        "id": "NazURpuPMB6Y",
        "colab_type": "text"
      },
      "cell_type": "markdown",
      "source": [
        "PyTorch supports many other layer types, loss functions, and optimizers - you will experiment with these next. Here's the official API documentation for these (if any of the parameters used above were unclear, this resource will also be helpful). \n",
        "\n",
        "* Layers: http://pytorch.org/docs/nn.html\n",
        "* Activations: http://pytorch.org/docs/nn.html#non-linear-activations\n",
        "* Loss functions: http://pytorch.org/docs/nn.html#loss-functions\n",
        "* Optimizers: http://pytorch.org/docs/optim.html#algorithms"
      ]
    },
    {
      "metadata": {
        "id": "6MkbQWSoMB6a",
        "colab_type": "text"
      },
      "cell_type": "markdown",
      "source": [
        "## Training a specific model\n",
        "\n",
        "In this section, we're going to specify a model for you to construct. The goal here isn't to get good performance (that'll be next), but instead to get comfortable with understanding the PyTorch documentation and configuring your own model. \n",
        "\n",
        "Using the code provided above as guidance, and using the following PyTorch documentation, specify a model with the following architecture:\n",
        "\n",
        "* 7x7 Convolutional Layer with 8 filters and stride of 1\n",
        "* ReLU Activation Layer\n",
        "* 2x2 Max Pooling layer with a stride of 2\n",
        "* 7x7 Convolutional Layer with 16 filters and stride of 1\n",
        "* ReLU Activation Layer\n",
        "* 2x2 Max Pooling layer with a stride of 2\n",
        "* Flatten the feature map\n",
        "* ReLU Activation Layer\n",
        "* Affine layer to map input units to 10 outputs, you need to figure out the input size here.\n"
      ]
    },
    {
      "metadata": {
        "id": "uzlEqaOZMB6e",
        "colab_type": "code",
        "colab": {
          "autoexec": {
            "startup": false,
            "wait_interval": 0
          }
        }
      },
      "cell_type": "code",
      "source": [
        "fixed_model_base = nn.Sequential( \n",
        "    #########1st To Do  (10 points)###################\n",
        "\n",
        "        nn.Conv2d(3, 8, kernel_size=7, stride=1),\n",
        "        nn.ReLU(),\n",
        "        nn.MaxPool2d(2,stride=2),\n",
        "        nn.Conv2d(8, 16, kernel_size=7, stride=1),\n",
        "        nn.ReLU(),\n",
        "        nn.MaxPool2d(2,stride=2),\n",
        "        Flatten(),\n",
        "        nn.ReLU(),\n",
        "        nn.Linear(1936, 10),\n",
        "    ####################################\n",
        "            )\n",
        "fixed_model = fixed_model_base.type(dtype)\n",
        "\n"
      ],
      "execution_count": 0,
      "outputs": []
    },
    {
      "metadata": {
        "id": "3knGginDMB6k",
        "colab_type": "text"
      },
      "cell_type": "markdown",
      "source": [
        "To make sure you're doing the right thing, use the following tool to check the dimensionality of your output (it should be 32 x 10, since our batches have size 32 and the output of the final affine layer should be 10, corresponding to our 10 classes):"
      ]
    },
    {
      "metadata": {
        "id": "Pp--A956MB6k",
        "colab_type": "code",
        "colab": {
          "autoexec": {
            "startup": false,
            "wait_interval": 0
          },
          "base_uri": "https://localhost:8080/",
          "height": 52
        },
        "outputId": "be4775ff-6d4b-466b-e131-e858b60e6446",
        "executionInfo": {
          "status": "ok",
          "timestamp": 1523343799452,
          "user_tz": 240,
          "elapsed": 436,
          "user": {
            "displayName": "Tejas Naik",
            "photoUrl": "https://lh3.googleusercontent.com/a/default-user=s128",
            "userId": "109987961230950503945"
          }
        }
      },
      "cell_type": "code",
      "source": [
        "## Now we're going to feed a random batch into the model you defined and make sure the output is the right size\n",
        "x = torch.randn(32, 3, 64, 64).type(dtype)\n",
        "x_var = Variable(x.type(dtype)) # Construct a PyTorch Variable out of your input data\n",
        "ans = fixed_model(x_var)        # Feed it through the model! \n",
        "\n",
        "# Check to make sure what comes out of your model\n",
        "# is the right dimensionality... this should be True\n",
        "# if you've done everything correctly\n",
        "print(np.array(ans.size()))\n",
        "np.array_equal(np.array(ans.size()), np.array([32, 10]))   \n"
      ],
      "execution_count": 34,
      "outputs": [
        {
          "output_type": "stream",
          "text": [
            "[32 10]\n"
          ],
          "name": "stdout"
        },
        {
          "output_type": "execute_result",
          "data": {
            "text/plain": [
              "True"
            ]
          },
          "metadata": {
            "tags": []
          },
          "execution_count": 34
        }
      ]
    },
    {
      "metadata": {
        "id": "sUeKWQPMMB7C",
        "colab_type": "text"
      },
      "cell_type": "markdown",
      "source": [
        "### Train the model.\n",
        "\n",
        "Now that you've seen how to define a model and do a single forward pass of some data through it, let's  walk through how you'd actually train one whole epoch over your training data (using the fixed_model_base we provided above).\n",
        "\n",
        "Make sure you understand how each PyTorch function used below corresponds to what you implemented in your custom neural network implementation.\n",
        "\n",
        "Note that because we are not resetting the weights anywhere below, if you run the cell multiple times, you are effectively training multiple epochs (so your performance should improve).\n",
        "\n",
        "First, set up an RMSprop optimizer (using a 1e-4 learning rate) and a cross-entropy loss function:"
      ]
    },
    {
      "metadata": {
        "id": "fy2dbG9-MB7E",
        "colab_type": "code",
        "colab": {
          "autoexec": {
            "startup": false,
            "wait_interval": 0
          }
        }
      },
      "cell_type": "code",
      "source": [
        "################ 2nd To Do  (5 points)##################\n",
        "optimizer = optim.RMSprop(fixed_model_base.parameters(), lr=1e-4)\n",
        "loss_fn = nn.CrossEntropyLoss().type(dtype)\n"
      ],
      "execution_count": 0,
      "outputs": []
    },
    {
      "metadata": {
        "id": "2F4qaybvMB7U",
        "colab_type": "code",
        "colab": {
          "autoexec": {
            "startup": false,
            "wait_interval": 0
          },
          "base_uri": "https://localhost:8080/",
          "height": 139
        },
        "outputId": "fc8d8836-e80a-4755-a122-c2919b7cf4b6",
        "executionInfo": {
          "status": "ok",
          "timestamp": 1523343878596,
          "user_tz": 240,
          "elapsed": 74502,
          "user": {
            "displayName": "Tejas Naik",
            "photoUrl": "https://lh3.googleusercontent.com/a/default-user=s128",
            "userId": "109987961230950503945"
          }
        }
      },
      "cell_type": "code",
      "source": [
        "# This sets the model in \"training\" mode. \n",
        "# This is relevant for some layers that may have different behavior\n",
        "# in training mode vs testing mode, such as Dropout and BatchNorm. \n",
        "fixed_model.train()\n",
        "\n",
        "# Load one batch at a time.\n",
        "for t, sample in enumerate(image_dataloader_train):\n",
        "    x_var = Variable(sample['image'])\n",
        "    #print(type(x_var.data))\n",
        "    #print(x_var.shape)\n",
        "    y_var = Variable(sample['Label']).long()\n",
        "\n",
        "    # This is the forward pass: predict the scores for each class, for each x in the batch.\n",
        "    scores = fixed_model(x_var)\n",
        "    \n",
        "    # Use the correct y values and the predicted y values to compute the loss.\n",
        "    loss = loss_fn(scores, y_var)\n",
        "    \n",
        "    if (t + 1) % print_every == 0:\n",
        "        print('t = %d, loss = %.4f' % (t + 1, loss.data[0]))\n",
        "\n",
        "    # Zero out all of the gradients for the variables which the optimizer will update.\n",
        "    optimizer.zero_grad()\n",
        "    \n",
        "    # This is the backwards pass: compute the gradient of the loss with respect to each \n",
        "    # parameter of the model.\n",
        "    loss.backward()\n",
        "    \n",
        "    # Actually update the parameters of the model using the gradients computed by the backwards pass.\n",
        "    optimizer.step()\n",
        "   "
      ],
      "execution_count": 36,
      "outputs": [
        {
          "output_type": "stream",
          "text": [
            "t = 100, loss = 1.5110\n",
            "t = 200, loss = 1.0825\n",
            "t = 300, loss = 1.0362\n",
            "t = 400, loss = 1.0158\n",
            "t = 500, loss = 0.7713\n",
            "t = 600, loss = 0.6016\n",
            "t = 700, loss = 0.4879\n"
          ],
          "name": "stdout"
        }
      ]
    },
    {
      "metadata": {
        "id": "ZlBptohGMB7g",
        "colab_type": "text"
      },
      "cell_type": "markdown",
      "source": [
        "Now you've seen how the training process works in PyTorch. To save you writing boilerplate code, we're providing the following helper functions to help you train for multiple epochs and check the accuracy of your model:"
      ]
    },
    {
      "metadata": {
        "id": "T84hVMARMB7m",
        "colab_type": "code",
        "colab": {
          "autoexec": {
            "startup": false,
            "wait_interval": 0
          }
        }
      },
      "cell_type": "code",
      "source": [
        "def train(model, loss_fn, optimizer, dataloader, num_epochs = 4):\n",
        "    for epoch in range(num_epochs):\n",
        "        print('Starting epoch %d / %d' % (epoch + 1, num_epochs))\n",
        "        model.train()\n",
        "        for t, sample in enumerate(dataloader):\n",
        "            x_var = Variable(sample['image'])\n",
        "            y_var = Variable(sample['Label'].long())\n",
        "\n",
        "            scores = model(x_var)\n",
        "            \n",
        "            loss = loss_fn(scores, y_var)\n",
        "            if (t + 1) % print_every == 0:\n",
        "                print('t = %d, loss = %.4f' % (t + 1, loss.data[0]))\n",
        "\n",
        "            optimizer.zero_grad()\n",
        "            loss.backward()\n",
        "            optimizer.step()\n",
        "\n",
        "def check_accuracy(model, loader):\n",
        "    '''\n",
        "    if loader.dataset.train:\n",
        "        print('Checking accuracy on validation set')\n",
        "    else:\n",
        "        print('Checking accuracy on test set')  \n",
        "    '''\n",
        "    num_correct = 0\n",
        "    num_samples = 0\n",
        "    model.eval() # Put the model in test mode (the opposite of model.train(), essentially)\n",
        "    for t, sample in enumerate(loader):\n",
        "        x_var = Variable(sample['image'])\n",
        "        y_var = sample['Label']\n",
        "        #y_var=y_var.cpu()\n",
        "        scores = model(x_var)\n",
        "        _, preds = scores.data.max(1)#scores.data.cpu().max(1)\n",
        "        #print(preds)\n",
        "        #print(y_var)\n",
        "        num_correct += (preds.numpy() == y_var.numpy()).sum()\n",
        "        num_samples += preds.size(0)\n",
        "    acc = float(num_correct) / num_samples\n",
        "    print('Got %d / %d correct (%.2f)' % (num_correct, num_samples, 100 * acc))\n",
        "    \n",
        "    \n",
        "\n"
      ],
      "execution_count": 0,
      "outputs": []
    },
    {
      "metadata": {
        "id": "dtEmPaQXMB7y",
        "colab_type": "text"
      },
      "cell_type": "markdown",
      "source": [
        "### Check the accuracy of the model.\n",
        "\n",
        "Let's see the train and check_accuracy code in action -- feel free to use these methods when evaluating the models you develop below.\n",
        "\n",
        "You should get a training loss of around 1.0-1.2, and a validation accuracy of around 50-60%. As mentioned above, if you re-run the cells, you'll be training more epochs, so your performance will improve past these numbers.\n",
        "\n",
        "But don't worry about getting these numbers better -- this was just practice before you tackle designing your own model."
      ]
    },
    {
      "metadata": {
        "id": "jCaPGtDsMB70",
        "colab_type": "code",
        "colab": {
          "autoexec": {
            "startup": false,
            "wait_interval": 0
          }
        }
      },
      "cell_type": "code",
      "source": [
        "torch.random.manual_seed(12345)\n",
        "fixed_model.cpu()\n",
        "fixed_model.apply(reset) \n",
        "fixed_model.train() \n",
        "train(fixed_model, loss_fn, optimizer,image_dataloader_train, num_epochs=1) \n",
        "check_accuracy(fixed_model, image_dataloader_train)# check accuracy on the training set\n",
        "\n",
        "#Obtained an accuracy of 90.10% on 10 epochs"
      ],
      "execution_count": 0,
      "outputs": []
    },
    {
      "metadata": {
        "id": "TkZ3fTvbMB8I",
        "colab_type": "text"
      },
      "cell_type": "markdown",
      "source": [
        "### Don't forget the validation set!\n",
        "\n",
        "And note that you can use the check_accuracy function to evaluate on the validation set, by passing **image_dataloader_val** as the second argument to check_accuracy. The accuracy on validation set is arround 40-50%."
      ]
    },
    {
      "metadata": {
        "id": "TspOw66qMB8M",
        "colab_type": "code",
        "colab": {
          "autoexec": {
            "startup": false,
            "wait_interval": 0
          },
          "base_uri": "https://localhost:8080/",
          "height": 34
        },
        "outputId": "e9d59d91-6b2c-4858-a5f6-42723b04c919",
        "executionInfo": {
          "status": "ok",
          "timestamp": 1523344271304,
          "user_tz": 240,
          "elapsed": 10478,
          "user": {
            "displayName": "Tejas Naik",
            "photoUrl": "https://lh3.googleusercontent.com/a/default-user=s128",
            "userId": "109987961230950503945"
          }
        }
      },
      "cell_type": "code",
      "source": [
        "check_accuracy(fixed_model, image_dataloader_val)#check accuracy on the validation set\n",
        "\n",
        "#Obtained an accuracy of 52.90%"
      ],
      "execution_count": 40,
      "outputs": [
        {
          "output_type": "stream",
          "text": [
            "Got 3539 / 6690 correct (52.90)\n"
          ],
          "name": "stdout"
        }
      ]
    },
    {
      "metadata": {
        "id": "gaDXAzQeMB8U",
        "colab_type": "text"
      },
      "cell_type": "markdown",
      "source": [
        "##### Train a better  model for action recognition!\n",
        "\n",
        "Now it's your job to experiment with architectures, hyperparameters, loss functions, and optimizers to train a model that achieves better accuracy on the action recognition **validation** set. You can use the check_accuracy and train functions from above."
      ]
    },
    {
      "metadata": {
        "id": "3YdbONNhMB8U",
        "colab_type": "text"
      },
      "cell_type": "markdown",
      "source": [
        "### Things you should try:\n",
        "- **Filter size**: Above we used 7x7; this makes pretty pictures but smaller filters may be more efficient\n",
        "- **Number of filters**: Do more or fewer do better?\n",
        "- **Pooling vs Strided Convolution**: Do you use max pooling or just stride convolutions?\n",
        "- **Batch normalization**: Try adding spatial batch normalization after convolution layers and vanilla batch normalization after affine layers. Do your networks train faster?\n",
        "- **Network architecture**: The network above has two layers of trainable parameters. Can you do better with a deep network? Good architectures to try include:\n",
        "    - [conv-relu-pool]xN -> [affine]xM -> [softmax or SVM]\n",
        "    - [conv-relu-conv-relu-pool]xN -> [affine]xM -> [softmax or SVM]\n",
        "    - [batchnorm-relu-conv]xN -> [affine]xM -> [softmax or SVM]\n",
        "- **Global Average Pooling**: Instead of flattening and then having multiple affine layers, perform convolutions until your image gets small (7x7 or so) and then perform an average pooling operation to get to a 1x1 image picture (1, 1 , Filter#), which is then reshaped into a (Filter#) vector. This is used in [Google's Inception Network](https://arxiv.org/abs/1512.00567) (See Table 1 for their architecture).\n",
        "- **Regularization**: Add l2 weight regularization, or perhaps use Dropout.\n",
        "\n",
        "### Tips for training\n",
        "For each network architecture that you try, you should tune the learning rate and regularization strength. When doing this there are a couple important things to keep in mind:\n",
        "\n",
        "- If the parameters are working well, you should see improvement within a few hundred iterations\n",
        "- Remember the coarse-to-fine approach for hyperparameter tuning: start by testing a large range of hyperparameters for just a few training iterations to find the combinations of parameters that are working at all.\n",
        "- Once you have found some sets of parameters that seem to work, search more finely around these parameters. You may need to train for more epochs.\n",
        "- You should use the validation set for hyperparameter search, and save your test set for evaluating your architecture on the best parameters as selected by the validation set.\n",
        "\n",
        "### Going above and beyond\n",
        "If you are feeling adventurous there are many other features you can implement to try and improve your performance. You are **not required** to implement any of these; however they would be good things to try.\n",
        "\n",
        "- Alternative update steps: For the assignment we implemented SGD+momentum, RMSprop, and Adam; you could try alternatives like AdaGrad or AdaDelta.\n",
        "- Alternative activation functions such as leaky ReLU, parametric ReLU, ELU, or MaxOut.\n",
        "- Model ensembles\n",
        "- Data augmentation\n",
        "- New Architectures\n",
        "  - [ResNets](https://arxiv.org/abs/1512.03385) where the input from the previous layer is added to the output.\n",
        "  - [DenseNets](https://arxiv.org/abs/1608.06993) where inputs into previous layers are concatenated together.\n",
        "  - [This blog has an in-depth overview](https://chatbotslife.com/resnets-highwaynets-and-densenets-oh-my-9bb15918ee32)\n",
        "\n",
        "If you do decide to implement something extra, clearly describe it in the \"Extra Credit Description\" cell below.\n",
        "\n",
        "### What we expect\n",
        "At the very least, you should be able to train a ConvNet that gets at least 55% accuracy on the validation set. This is just a lower bound - if you are careful it should be possible to get accuracies much higher than that! Extra credit points will be awarded for particularly high-scoring models or unique approaches.\n",
        "\n",
        "You should use the space below to experiment and train your network. \n",
        "\n"
      ]
    },
    {
      "metadata": {
        "id": "u2CX_SdLMB8W",
        "colab_type": "code",
        "colab": {
          "autoexec": {
            "startup": false,
            "wait_interval": 0
          }
        }
      },
      "cell_type": "code",
      "source": [
        "###########3rd To Do (16 points, must submit the results to Kaggle) ##############\n",
        "# Train your model here, and make sure the output of this cell is the accuracy of your best model on the \n",
        "# train, val, and test sets. Here's some code to get you started. The output of this cell should be the training\n",
        "# and validation accuracy on your best model (measured by validation accuracy).\n",
        "\n",
        "model = nn.Sequential(\n",
        "        nn.Conv2d(3,8,kernel_size=5,stride=1,padding=2),    \n",
        "        nn.ReLU(),\n",
        "        nn.Conv2d(8,16,kernel_size=5,stride=1,padding=2),\n",
        "        nn.ReLU(),\n",
        "        nn.Conv2d(16,32,kernel_size=5,stride=1,padding=2),\n",
        "        nn.ReLU(),\n",
        "        nn.MaxPool2d(2,stride=2),\n",
        "        nn.Conv2d(32, 48, kernel_size=5, stride=1,padding=2),\n",
        "        nn.ReLU(),\n",
        "        nn.MaxPool2d(2,stride=2),\n",
        "        Flatten(),\n",
        "        nn.ReLU(),\n",
        "        nn.Linear(12288, 10),\n",
        "        nn.Dropout(0.3),\n",
        "        nn.ReLU(),\n",
        "        nn.Linear(10,10),)\n",
        "\n",
        "conv = model.type(dtype)\n",
        "\n",
        "optimizer = optim.RMSprop(model.parameters(), lr=1e-4)\n",
        "loss_fn = nn.CrossEntropyLoss().type(dtype)\n",
        "train(model, loss_fn, optimizer,image_dataloader_train, num_epochs=8)\n",
        "check_accuracy(conv, image_dataloader_val)"
      ],
      "execution_count": 0,
      "outputs": []
    },
    {
      "metadata": {
        "id": "8ilKONmCMB8a",
        "colab_type": "text"
      },
      "cell_type": "markdown",
      "source": [
        "### Describe what you did \n",
        "\n",
        "In the cell below you should write an explanation of what you did, any additional features that you implemented, and any visualizations or graphs that you make in the process of training and evaluating your network."
      ]
    },
    {
      "metadata": {
        "id": "y2HGyF9jMB8c",
        "colab_type": "text"
      },
      "cell_type": "markdown",
      "source": [
        "Tell us here!\n",
        "###########4th To Do (4 points) ##############\n",
        "\n",
        "Model architecture is as follows:\n",
        "\n",
        "Conv(3,8)->ReLU->Conv(8,16)->ReLU->Conv(16,32)->ReLU->MaxPool(2,2)->Conv(32,48)->ReLU->MaxPool(2,2)->Flatten->ReLU->Linear(12288,10)-Dropout(0.3)->Relu->Linear(10,10)\n",
        "\n",
        "\n",
        "Features:\n",
        "\n",
        "1) I played around with the number of input/output gates to get the best possible accuracy.\n",
        "\n",
        "\n",
        "2) I also tried different architectures with different number of layers.\n",
        "\n",
        "\n",
        "3) I tried different kernel sizes and found 5 to be the best with zero padding of 2.\n",
        "\n",
        "\n",
        "4) I used Convolution over the images 3 times followed by a Max Pool and another Convolution followed by another max pool layer. \n",
        "\n",
        "\n",
        "5) I also used dropout of 30% to avoid overfitting.\n",
        "\n",
        "\n",
        "6) Finally, I trained it over 10 epochs.\n",
        "\n",
        "I achieved an accuracy of 59.5% on the validation dataset."
      ]
    },
    {
      "metadata": {
        "id": "6mriaDJWMB8e",
        "colab_type": "text"
      },
      "cell_type": "markdown",
      "source": [
        "### Testing the model and submit on Kaggle\n",
        "Testing the model on the testing set and save the results as a .csv file. \n",
        "Please submitted the results.csv file generated by predict_on_test() to Kaggle(https://www.kaggle.com/c/cse512springhw3) to see how well your network performs on the test set. \n",
        "#######5th To Do (submit the result to Kaggle,the highest 3 entries get extra 10 points )###############\n",
        "\n",
        "Submitted the result to Kaggle. \n",
        "\n",
        "Kaggle Score : 50.91743"
      ]
    },
    {
      "metadata": {
        "id": "qsJPV-RPMB8k",
        "colab_type": "code",
        "colab": {
          "autoexec": {
            "startup": false,
            "wait_interval": 0
          },
          "base_uri": "https://localhost:8080/",
          "height": 34
        },
        "outputId": "90d56551-880d-47c8-c890-50954383abfd",
        "executionInfo": {
          "status": "ok",
          "timestamp": 1523398296202,
          "user_tz": 240,
          "elapsed": 97656,
          "user": {
            "displayName": "Tejas Naik",
            "photoUrl": "https://lh3.googleusercontent.com/a/default-user=s128",
            "userId": "109987961230950503945"
          }
        }
      },
      "cell_type": "code",
      "source": [
        "def predict_on_test(model, loader):\n",
        "    '''\n",
        "    if loader.dataset.train:\n",
        "        print('Checking accuracy on validation set')\n",
        "    else:\n",
        "        print('Checking accuracy on test set')  \n",
        "    '''\n",
        "    num_correct = 0\n",
        "    num_samples = 0\n",
        "    model.eval() # Put the model in test mode (the opposite of model.train(), essentially)\n",
        "    results=open('results_1.csv','w')\n",
        "    count=0\n",
        "    results.write('Id'+','+'Class'+'\\n')\n",
        "    for t, sample in enumerate(loader):\n",
        "        x_var = Variable(sample['image'])\n",
        "        scores = model(x_var)\n",
        "        _, preds = scores.data.max(1)\n",
        "        for i in range(len(preds)):\n",
        "            results.write(str(count)+','+str(preds[i])+'\\n')\n",
        "            count+=1\n",
        "    results.close()\n",
        "    return count\n",
        "    \n",
        "count=predict_on_test(conv, image_dataloader_test)\n",
        "print(count)"
      ],
      "execution_count": 37,
      "outputs": [
        {
          "output_type": "stream",
          "text": [
            "9810\n"
          ],
          "name": "stdout"
        }
      ]
    },
    {
      "metadata": {
        "id": "3u58WB26e2_W",
        "colab_type": "code",
        "colab": {
          "autoexec": {
            "startup": false,
            "wait_interval": 0
          },
          "base_uri": "https://localhost:8080/",
          "height": 34
        },
        "outputId": "1d32e82c-d191-403d-8e03-f4d44a152be3",
        "executionInfo": {
          "status": "ok",
          "timestamp": 1523398308564,
          "user_tz": 240,
          "elapsed": 1372,
          "user": {
            "displayName": "Tejas Naik",
            "photoUrl": "https://lh3.googleusercontent.com/a/default-user=s128",
            "userId": "109987961230950503945"
          }
        }
      },
      "cell_type": "code",
      "source": [
        "\"\"\"\n",
        "from pydrive.auth import GoogleAuth\n",
        "from pydrive.drive import GoogleDrive\n",
        "from google.colab import auth\n",
        "from oauth2client.client import GoogleCredentials\n",
        "\n",
        "# Authenticate and create the PyDrive client.\n",
        "# This only needs to be done once in a notebook.\n",
        "auth.authenticate_user()\n",
        "gauth = GoogleAuth()\n",
        "gauth.credentials = GoogleCredentials.get_application_default()\n",
        "drive = GoogleDrive(gauth)\n",
        "\n",
        "# Create & upload a file.\n",
        "uploaded = drive.CreateFile({'title': 'results.csv'})\n",
        "uploaded.SetContentFile('results.csv')\n",
        "uploaded.Upload()\n",
        "print('Uploaded file with ID {}'.format(uploaded.get('id')))\n",
        "\n",
        "\"\"\"\n"
      ],
      "execution_count": 38,
      "outputs": [
        {
          "output_type": "stream",
          "text": [
            "Uploaded file with ID 1NVqVH-15I4a__GmgV_gqI6-1tKvrMxVY\n"
          ],
          "name": "stdout"
        }
      ]
    },
    {
      "metadata": {
        "id": "S0JYq2aUMB8u",
        "colab_type": "text"
      },
      "cell_type": "markdown",
      "source": [
        "### GPU! (This part is optional, 0 points)\n",
        "\n",
        "If you have access to GPU, you can make the code run on GPU, it would be much faster. \n",
        "\n",
        "Now, we're going to switch the dtype of the model and our data to the GPU-friendly tensors, and see what happens... everything is the same, except we are casting our model and input tensors as this new dtype instead of the old one.\n",
        "\n",
        "If this returns false, or otherwise fails in a not-graceful way (i.e., with some error message), you may not have an NVIDIA GPU available on your machine. "
      ]
    },
    {
      "metadata": {
        "id": "ru9VbaE8MB8w",
        "colab_type": "code",
        "colab": {
          "autoexec": {
            "startup": false,
            "wait_interval": 0
          }
        }
      },
      "cell_type": "code",
      "source": [
        "# Verify that CUDA is properly configured and you have a GPU available\n",
        "\n",
        "torch.cuda.is_available()"
      ],
      "execution_count": 0,
      "outputs": []
    },
    {
      "metadata": {
        "id": "avlNF-2UMB82",
        "colab_type": "code",
        "colab": {
          "autoexec": {
            "startup": false,
            "wait_interval": 0
          }
        }
      },
      "cell_type": "code",
      "source": [
        "import copy\n",
        "gpu_dtype = torch.cuda.FloatTensor\n",
        "\n",
        "fixed_model_gpu = copy.deepcopy(fixed_model_base)#.type(gpu_dtype)\n",
        "fixed_model_gpu.cuda()\n",
        "x_gpu = torch.randn(4, 3, 64, 64).cuda()#.type(gpu_dtype)\n",
        "x_var_gpu = Variable(x_gpu)#type(gpu_dtype)) # Construct a PyTorch Variable out of your input data\n",
        "ans = fixed_model_gpu(x_var_gpu)        # Feed it through the model! \n",
        "\n",
        "# Check to make sure what comes out of your model\n",
        "# is the right dimensionality... this should be True\n",
        "# if you've done everything correctly\n",
        "np.array_equal(np.array(ans.size()), np.array([4, 10]))\n"
      ],
      "execution_count": 0,
      "outputs": []
    },
    {
      "metadata": {
        "id": "6wtS8oKvMB88",
        "colab_type": "text"
      },
      "cell_type": "markdown",
      "source": [
        "Run the following cell to evaluate the performance of the forward pass running on the CPU:"
      ]
    },
    {
      "metadata": {
        "id": "CsyRtK4tMB8-",
        "colab_type": "code",
        "colab": {
          "autoexec": {
            "startup": false,
            "wait_interval": 0
          }
        }
      },
      "cell_type": "code",
      "source": [
        "%%timeit \n",
        "ans = fixed_model(x_var)"
      ],
      "execution_count": 0,
      "outputs": []
    },
    {
      "metadata": {
        "id": "mG-gPD3uMB9O",
        "colab_type": "text"
      },
      "cell_type": "markdown",
      "source": [
        "... and now the GPU:"
      ]
    },
    {
      "metadata": {
        "id": "7Y15vTIlMB9Q",
        "colab_type": "code",
        "colab": {
          "autoexec": {
            "startup": false,
            "wait_interval": 0
          }
        }
      },
      "cell_type": "code",
      "source": [
        "%%timeit \n",
        "torch.cuda.synchronize() # Make sure there are no pending GPU computations\n",
        "ans = fixed_model_gpu(x_var_gpu)        # Feed it through the model! \n",
        "torch.cuda.synchronize() # Make sure there are no pending GPU computations"
      ],
      "execution_count": 0,
      "outputs": []
    },
    {
      "metadata": {
        "id": "q6UAlS13MB9U",
        "colab_type": "text"
      },
      "cell_type": "markdown",
      "source": [
        "You should observe that even a simple forward pass like this is significantly faster on the GPU. So for the rest of the assignment (and when you go train your models in assignment 3 and your project!), you should use the GPU datatype for your model and your tensors: as a reminder that is *torch.cuda.FloatTensor* (in our notebook here as *gpu_dtype*)"
      ]
    },
    {
      "metadata": {
        "id": "XY3sEo-kMB9W",
        "colab_type": "text"
      },
      "cell_type": "markdown",
      "source": [
        "Let's make the loss function and training variables to GPU friendly format by '.cuda()'"
      ]
    },
    {
      "metadata": {
        "id": "_DxioBmTMB9W",
        "colab_type": "code",
        "colab": {
          "autoexec": {
            "startup": false,
            "wait_interval": 0
          }
        }
      },
      "cell_type": "code",
      "source": [
        "loss_fn = nn.CrossEntropyLoss().cuda()\n",
        "optimizer = optim.RMSprop(fixed_model_gpu.parameters(), lr=1e-4)"
      ],
      "execution_count": 0,
      "outputs": []
    },
    {
      "metadata": {
        "id": "6Q6wAoLKMB9c",
        "colab_type": "code",
        "colab": {
          "autoexec": {
            "startup": false,
            "wait_interval": 0
          }
        }
      },
      "cell_type": "code",
      "source": [
        "def train(model, loss_fn, optimizer, dataloader, num_epochs = 1):\n",
        "    for epoch in range(num_epochs):\n",
        "        print('Starting epoch %d / %d' % (epoch + 1, num_epochs))\n",
        "        model.train()\n",
        "        for t, sample in enumerate(dataloader):\n",
        "            x_var = Variable(sample['image'].cuda())\n",
        "            y_var = Variable(sample['Label'].cuda().long())\n",
        "\n",
        "            scores = model(x_var)\n",
        "            \n",
        "            loss = loss_fn(scores, y_var)\n",
        "            if (t + 1) % print_every == 0:\n",
        "                print('t = %d, loss = %.4f' % (t + 1, loss.data[0]))\n",
        "\n",
        "            optimizer.zero_grad()\n",
        "            loss.backward()\n",
        "            optimizer.step()\n",
        "\n",
        "def check_accuracy(model, loader):\n",
        "    '''\n",
        "    if loader.dataset.train:\n",
        "        print('Checking accuracy on validation set')\n",
        "    else:\n",
        "        print('Checking accuracy on test set')  \n",
        "    '''\n",
        "    num_correct = 0\n",
        "    num_samples = 0\n",
        "    model.eval() # Put the model in test mode (the opposite of model.train(), essentially)\n",
        "    for t, sample in enumerate(loader):\n",
        "        x_var = Variable(sample['image'].cuda())\n",
        "        y_var = sample['Label'].cuda()\n",
        "        y_var=y_var.cpu()\n",
        "        scores = model(x_var)\n",
        "        _, preds = scores.data.cpu().max(1)\n",
        "        #print(preds)\n",
        "        #print(y_var)\n",
        "        num_correct += (preds.numpy() == y_var.numpy()).sum()\n",
        "        num_samples += preds.size(0)\n",
        "    acc = float(num_correct) / num_samples\n",
        "    print('Got %d / %d correct (%.2f)' % (num_correct, num_samples, 100 * acc))"
      ],
      "execution_count": 0,
      "outputs": []
    },
    {
      "metadata": {
        "id": "LzdGDbSXMB9g",
        "colab_type": "text"
      },
      "cell_type": "markdown",
      "source": [
        "Run on GPU!"
      ]
    },
    {
      "metadata": {
        "id": "C7XH7-CVMB9i",
        "colab_type": "code",
        "colab": {
          "autoexec": {
            "startup": false,
            "wait_interval": 0
          }
        }
      },
      "cell_type": "code",
      "source": [
        "torch.cuda.random.manual_seed(12345)\n",
        "\n",
        "fixed_model_gpu.apply(reset) \n",
        "fixed_model_gpu.train() \n",
        "train(fixed_model_gpu, loss_fn, optimizer,image_dataloader_train, num_epochs=1) \n",
        "check_accuracy(fixed_model_gpu, image_dataloader_train)# check accuracy on the training set\n"
      ],
      "execution_count": 0,
      "outputs": []
    },
    {
      "metadata": {
        "id": "5hBoBdG1MB9m",
        "colab_type": "text"
      },
      "cell_type": "markdown",
      "source": [
        "### 3D Convolution on video clips (25 points+10 extra points)\n",
        "3D convolution is for videos, it has one more dimension than 2d convolution. You can find the document for 3D convolution here http://pytorch.org/docs/master/nn.html#torch.nn.Conv3dIn. In our dataset, each clip is a video of 3 frames. Lets classify the each clip rather than each image using 3D convolution.\n",
        "We offer the data loader, the train_3d and check_accuracy"
      ]
    },
    {
      "metadata": {
        "id": "KnM_u1FBMB9m",
        "colab_type": "code",
        "colab": {
          "autoexec": {
            "startup": false,
            "wait_interval": 0
          }
        }
      },
      "cell_type": "code",
      "source": [
        "class ActionClipDataset(Dataset):\n",
        "    \"\"\"Action Landmarks dataset.\"\"\"\n",
        "\n",
        "    def __init__(self,  root_dir,labels=[], transform=None):\n",
        "        \"\"\"\n",
        "        Args:\n",
        "            csv_file (string): Path to the csv file with annotations.\n",
        "            root_dir (string): Directory with all the images.\n",
        "            transform (callable, optional): Optional transform to be applied\n",
        "                on a sample.\n",
        "        \"\"\"\n",
        "        \n",
        "        self.root_dir = root_dir\n",
        "        self.transform = transform\n",
        "        self.length=len(os.listdir(self.root_dir))\n",
        "        self.labels=labels\n",
        "\n",
        "    def __len__(self):\n",
        "        return self.length\n",
        "\n",
        "    def __getitem__(self, idx):\n",
        "        \n",
        "        folder=idx+1\n",
        "        folder=format(folder,'05d')\n",
        "        clip=[]\n",
        "        if len(self.labels)!=0:\n",
        "            Label=self.labels[idx][0]-1\n",
        "        for i in range(3):\n",
        "            imidx=i+1\n",
        "            imgname=str(imidx)+'.jpg'\n",
        "            img_path = os.path.join(self.root_dir,\n",
        "                                    folder,imgname)\n",
        "            image = Image.open(img_path)\n",
        "            image=np.array(image)\n",
        "            clip.append(image)\n",
        "        if self.transform:\n",
        "            clip=np.asarray(clip)\n",
        "            clip=np.transpose(clip, (0,3,1,2))\n",
        "            clip = torch.from_numpy(np.asarray(clip))\n",
        "        if len(self.labels)!=0:\n",
        "            sample={'clip':clip,'Label':Label,'folder':folder}\n",
        "        else:\n",
        "            sample={'clip':clip,'folder':folder}\n",
        "        return sample\n",
        "\n",
        "clip_dataset=ActionClipDataset(root_dir='./data/trainClips/',\\\n",
        "                               labels=label_train,transform=T.ToTensor())#/home/tqvinh/Study/CSE512/cse512-s18/hw2data/trainClips/\n",
        "for i in range(10):\n",
        "    sample=clip_dataset[i]\n",
        "    print(sample['clip'].shape)\n",
        "    print(sample['Label'])\n",
        "    print(sample['folder'])"
      ],
      "execution_count": 0,
      "outputs": []
    },
    {
      "metadata": {
        "id": "_5vu7GzOMB9u",
        "colab_type": "code",
        "colab": {
          "autoexec": {
            "startup": false,
            "wait_interval": 0
          }
        }
      },
      "cell_type": "code",
      "source": [
        "clip_dataloader = DataLoader(clip_dataset, batch_size=4,\n",
        "                        shuffle=True, num_workers=4)\n",
        "\n",
        "\n",
        "for i,sample in enumerate(clip_dataloader):\n",
        "    print(i,sample['clip'].shape,sample['folder'],sample['Label'])\n",
        "    if i>20: \n",
        "        break"
      ],
      "execution_count": 0,
      "outputs": []
    },
    {
      "metadata": {
        "id": "PGOMaHDGMB9y",
        "colab_type": "code",
        "colab": {
          "autoexec": {
            "startup": false,
            "wait_interval": 0
          }
        }
      },
      "cell_type": "code",
      "source": [
        "clip_dataset_train=ActionClipDataset(root_dir='./data/trainClips/',labels=label_train,transform=T.ToTensor())\n",
        "\n",
        "clip_dataloader_train = DataLoader(clip_dataset_train, batch_size=16,\n",
        "                        shuffle=True, num_workers=4)\n",
        "clip_dataset_val=ActionClipDataset(root_dir='./data/valClips/',labels=label_val,transform=T.ToTensor())\n",
        "\n",
        "clip_dataloader_val = DataLoader(clip_dataset_val, batch_size=16,\n",
        "                        shuffle=True, num_workers=4)\n",
        "clip_dataset_test=ActionClipDataset(root_dir='./data/testClips/',labels=[],transform=T.ToTensor())\n",
        "\n",
        "clip_dataloader_test = DataLoader(clip_dataset_test, batch_size=16,\n",
        "                        shuffle=False, num_workers=4)"
      ],
      "execution_count": 0,
      "outputs": []
    },
    {
      "metadata": {
        "id": "rpEu5FFRMB92",
        "colab_type": "text"
      },
      "cell_type": "markdown",
      "source": [
        "Write the Flatten for 3d covolution feature maps."
      ]
    },
    {
      "metadata": {
        "id": "Wsc2JS9LMB94",
        "colab_type": "code",
        "colab": {
          "autoexec": {
            "startup": false,
            "wait_interval": 0
          }
        }
      },
      "cell_type": "code",
      "source": [
        "class Flatten3d(nn.Module):\n",
        "    def forward(self, x):\n",
        "        ###############6th To Do (5 points)###################\n",
        "        N, D, C, H, W = x.size() # read in N, C, H, W\n",
        "        return x.view(N, -1)\n",
        "     "
      ],
      "execution_count": 0,
      "outputs": []
    },
    {
      "metadata": {
        "id": "LK4Z8R7jMB9-",
        "colab_type": "text"
      },
      "cell_type": "markdown",
      "source": [
        "Design a network using 3D convolution on videos for video classification."
      ]
    },
    {
      "metadata": {
        "id": "VUMEAqMSMB-G",
        "colab_type": "code",
        "colab": {
          "autoexec": {
            "startup": false,
            "wait_interval": 0
          }
        }
      },
      "cell_type": "code",
      "source": [
        "fixed_model_3d = nn.Sequential( # You fill this in!\n",
        "    ###############7th To Do (16 points)#########################\n",
        "                 nn.Conv3d(3,24,kernel_size=3,stride=2,padding=1),\n",
        "                 nn.ReLU(),\n",
        "                 nn.MaxPool3d(1,stride=1),\n",
        "                 nn.Conv3d(24,48,kernel_size=(1,2,2),stride=2,padding=1),\n",
        "                 nn.ReLU(),\n",
        "                 nn.MaxPool3d(2, stride=2),\n",
        "                 Flatten3d(),\n",
        "                 nn.ReLU(),         \n",
        "                 nn.Linear(3072,10),)\n",
        "    \n",
        "\n",
        "fixed_model_3d = fixed_model_3d.type(dtype)\n",
        "x = torch.randn(32,3, 3, 64, 64).type(dtype)\n",
        "x_var = Variable(x).type(dtype) # Construct a PyTorch Variable out of your input data\n",
        "ans = fixed_model_3d(x_var) \n",
        "np.array_equal(np.array(ans.size()), np.array([32, 10]))\n"
      ],
      "execution_count": 0,
      "outputs": []
    },
    {
      "metadata": {
        "id": "uaIzXxgMMB-S",
        "colab_type": "text"
      },
      "cell_type": "markdown",
      "source": [
        "### Describe what you did (4 points)\n",
        "\n",
        "In the cell below you should write an explanation of what you did, any additional features that you implemented, and any visualizations or graphs that you make in the process of training and evaluating your network."
      ]
    },
    {
      "metadata": {
        "id": "nVwFxednMB-S",
        "colab_type": "text"
      },
      "cell_type": "markdown",
      "source": [
        "*8th* To Do\n",
        "Tell us here:\n",
        "\n",
        "\n",
        "Model architecture is as follows:\n",
        "\n",
        "Conv3d(3,24,kernel=3,stride=2)->ReLU->MaxPool3d(1,1)->Conv(24,48,kernel=(1,2,2))->ReLU->MaxPool3d(2,2)->Flatten3d->ReLU->Linear(3072,10)\n",
        "\n",
        "Features:\n",
        "\n",
        "1) I played around with the number of input/output gates to get the best possible accuracy.\n",
        "\n",
        "2) I also tried different architectures with different number of layers.\n",
        "\n",
        "3) I tried different kernel sizes and found 3 to be the best.\n",
        "\n",
        "4) I used Convolution over the clips 2 times followed by a Max Pool.\n",
        "\n",
        "5) Finally, I trained it for over 8 epochs.\n",
        "\n",
        "I achieved an accuracy of 55.5% on the validation dataset.\n",
        "\n",
        "Submitted to Kaggle with accuracy - 52.14 %"
      ]
    },
    {
      "metadata": {
        "id": "zROaKCs5MB-U",
        "colab_type": "code",
        "colab": {
          "autoexec": {
            "startup": false,
            "wait_interval": 0
          }
        }
      },
      "cell_type": "code",
      "source": [
        "loss_fn = nn.CrossEntropyLoss().type(dtype)\n",
        "optimizer = optim.RMSprop(fixed_model_3d.parameters(), lr=1e-4)\n"
      ],
      "execution_count": 0,
      "outputs": []
    },
    {
      "metadata": {
        "id": "XmsC2ehoMB-Y",
        "colab_type": "code",
        "colab": {
          "autoexec": {
            "startup": false,
            "wait_interval": 0
          }
        }
      },
      "cell_type": "code",
      "source": [
        "def train_3d(model, loss_fn, optimizer,dataloader,num_epochs = 1):\n",
        "    for epoch in range(num_epochs):\n",
        "        print('Starting epoch %d / %d' % (epoch + 1, num_epochs))\n",
        "        model.train()\n",
        "        for t, sample in enumerate(dataloader):\n",
        "            x_var = Variable(sample['clip'].type(dtype))\n",
        "            y_var = Variable(sample['Label'].type(dtype).long())\n",
        "\n",
        "            scores = model(x_var)\n",
        "            \n",
        "            loss = loss_fn(scores, y_var)\n",
        "            if (t + 1) % print_every == 0:\n",
        "                print('t = %d, loss = %.4f' % (t + 1, loss.data[0]))\n",
        "\n",
        "            optimizer.zero_grad()\n",
        "            loss.backward()\n",
        "            optimizer.step()\n",
        "\n",
        "def check_accuracy_3d(model, loader):\n",
        "    '''\n",
        "    if loader.dataset.train:\n",
        "        print('Checking accuracy on validation set')\n",
        "    else:\n",
        "        print('Checking accuracy on test set')  \n",
        "    '''\n",
        "    num_correct = 0\n",
        "    num_samples = 0\n",
        "    model.eval() # Put the model in test mode (the opposite of model.train(), essentially)\n",
        "    for t, sample in enumerate(loader):\n",
        "        x_var = Variable(sample['clip'].type(dtype))\n",
        "        y_var = sample['Label'].type(dtype)\n",
        "        y_var=y_var.cpu()\n",
        "        scores = model(x_var)\n",
        "        _, preds = scores.data.cpu().max(1)\n",
        "        #print(preds)\n",
        "        #print(y_var)\n",
        "        num_correct += (preds.numpy() == y_var.numpy()).sum()\n",
        "        num_samples += preds.size(0)\n",
        "    acc = float(num_correct) / num_samples\n",
        "    print('Got %d / %d correct (%.2f)' % (num_correct, num_samples, 100 * acc))"
      ],
      "execution_count": 0,
      "outputs": []
    },
    {
      "metadata": {
        "id": "8x76ej5yMB-c",
        "colab_type": "code",
        "colab": {
          "autoexec": {
            "startup": false,
            "wait_interval": 0
          }
        }
      },
      "cell_type": "code",
      "source": [
        "torch.cuda.random.manual_seed(12345)\n",
        "fixed_model_3d.apply(reset) \n",
        "fixed_model_3d.train() \n",
        "train_3d(fixed_model_3d, loss_fn, optimizer,clip_dataloader_train, num_epochs=1) \n",
        "fixed_model_3d.eval() \n",
        "check_accuracy_3d(fixed_model_3d, clip_dataloader_val)"
      ],
      "execution_count": 0,
      "outputs": []
    },
    {
      "metadata": {
        "id": "SSCuP71kMB-k",
        "colab_type": "text"
      },
      "cell_type": "markdown",
      "source": [
        "Test your 3d convolution model on the validation set. You don't need to submit the result of this part to kaggle.  "
      ]
    },
    {
      "metadata": {
        "id": "vqWAyQlyMB-m",
        "colab_type": "text"
      },
      "cell_type": "markdown",
      "source": [
        "Test your model on the test set, predict_on_test_3d() will generate a file named 'results_3d.csv'. Please submit the csv file to kaggle https://www.kaggle.com/c/cse512springhw3video\n",
        "The highest 3 entries get extra 10 points.\n"
      ]
    },
    {
      "metadata": {
        "id": "AmzTTufOMB-m",
        "colab_type": "code",
        "colab": {
          "autoexec": {
            "startup": false,
            "wait_interval": 0
          }
        }
      },
      "cell_type": "code",
      "source": [
        "def predict_on_test_3d(model, loader):\n",
        "    '''\n",
        "    if loader.dataset.train:\n",
        "        print('Checking accuracy on validation set')\n",
        "    else:\n",
        "        print('Checking accuracy on test set')  \n",
        "    '''\n",
        "    num_correct = 0\n",
        "    num_samples = 0\n",
        "    model.eval() # Put the model in test mode (the opposite of model.train(), essentially)\n",
        "    results=open('results_3d.csv','w')\n",
        "    count=0\n",
        "    results.write('Id'+','+'Class'+'\\n')\n",
        "    for t, sample in enumerate(loader):\n",
        "        x_var = Variable(sample['clip'].type(dtype))\n",
        "        scores = model(x_var)\n",
        "        _, preds = scores.data.max(1)\n",
        "        for i in range(len(preds)):\n",
        "            results.write(str(count)+','+str(preds[i])+'\\n')\n",
        "            count+=1\n",
        "    results.close()\n",
        "    return count\n",
        "    \n",
        "count=predict_on_test_3d(fixed_model_3d, clip_dataloader_test)\n",
        "print(count)"
      ],
      "execution_count": 0,
      "outputs": []
    },
    {
      "metadata": {
        "id": "Tb_x7OWuMB-q",
        "colab_type": "code",
        "colab": {
          "autoexec": {
            "startup": false,
            "wait_interval": 0
          }
        }
      },
      "cell_type": "code",
      "source": [
        ""
      ],
      "execution_count": 0,
      "outputs": []
    }
  ]
}